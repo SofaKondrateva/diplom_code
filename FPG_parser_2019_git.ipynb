{
 "cells": [
  {
   "cell_type": "code",
   "execution_count": 1,
   "metadata": {},
   "outputs": [
    {
     "data": {
      "text/plain": [
       "'Mozilla/5.0 (Windows NT 6.1) AppleWebKit/537.36 (KHTML, like Gecko) Chrome/41.0.2228.0 Safari/537.36'"
      ]
     },
     "execution_count": 1,
     "metadata": {},
     "output_type": "execute_result"
    }
   ],
   "source": [
    "import re\n",
    "from robobrowser import RoboBrowser\n",
    "import pandas as pd\n",
    "from fake_useragent import UserAgent\n",
    "UserAgent().chrome"
   ]
  },
  {
   "cell_type": "code",
   "execution_count": 2,
   "metadata": {},
   "outputs": [],
   "source": [
    "browser = RoboBrowser(user_agent='User_Agent',parser='lxml')\n",
    "#page_link = 'https://президентскиегранты.рф/public/application/table?CompetitionId=c6559afc-9d8d-49fc-8f00-db7955e29690&RegionId=&ContestDirectionTenantId=&SearchString=&OnlyWinners=true'#ссылка на победителей 2-го конкурса\n",
    "page_link = 'https://президентскиегранты.рф/public/application/table?CompetitionId=259bc90b-a17d-4ae5-a52e-2d75ce40bf1d&RegionId=&ContestDirectionTenantId=&SearchString=&OnlyWinners=true' #ссылка на победителей 1-го конкурса"
   ]
  },
  {
   "cell_type": "code",
   "execution_count": 3,
   "metadata": {},
   "outputs": [],
   "source": [
    "# Функция принимает на вход ссылку, \n",
    "def page_crawler(page_link):\n",
    "    browser.open(page_link)\n",
    "    all_page_links = []\n",
    "    all_page_links.append(browser.find(class_='pagination__item active').find('a')) \n",
    "    for every_next_page in range(int(browser.find(class_='pagination__item active').find_next_siblings()[-1].text.strip('\\n'))-1):\n",
    "\n",
    "        next_page_link = browser.find(class_='pagination__item active').find_next_siblings()[0].find('a')\n",
    "        all_page_links.append(next_page_link)\n",
    "        browser.follow_link(all_page_links[-1])\n",
    "\n",
    "    return all_page_links"
   ]
  },
  {
   "cell_type": "code",
   "execution_count": 4,
   "metadata": {},
   "outputs": [],
   "source": [
    "#Функция собирает со всех страниц ссылки на проекты\n",
    "def get_project_links (all_page_links):\n",
    "    all_project_links = []\n",
    "    for page_link in all_page_links:\n",
    "        browser.follow_link(page_link)\n",
    "        for every_a in browser.find_all(class_='table__link table__link--nopws'):\n",
    "            all_project_links.append(every_a)\n",
    "    return all_project_links"
   ]
  },
  {
   "cell_type": "code",
   "execution_count": 5,
   "metadata": {},
   "outputs": [],
   "source": [
    "# Функция, которая забирает регион из главной таблицы\n",
    "def get_region(all_page_links):\n",
    "    region_list = []\n",
    "    for page_link in all_page_links:\n",
    "        browser.follow_link(page_link)\n",
    "        for every_div in browser.find_all(class_='table__cell js-pp-rig-clone-from'):\n",
    "            string = every_div.text\n",
    "            match = re.search(r'[А-Я]{1}[а-я]+\\s*-*[А-Яа-я]*', string)\n",
    "            reg = match[0]\n",
    "            region_list.append(reg)\n",
    "    return region_list"
   ]
  },
  {
   "cell_type": "code",
   "execution_count": 6,
   "metadata": {},
   "outputs": [],
   "source": [
    "#Функция, котоая собирает данные со страниц проектов\n",
    "def get_project_data(all_project_links):\n",
    "    dataset = []\n",
    "    for link in all_project_links:\n",
    "        browser.follow_link(link)\n",
    "        address = browser.find(class_='winner__details-contacts-item').text # address\n",
    "        applicationDate = browser.find_all(class_='winner-info__list-item-text')[4].text # applicationDate\n",
    "        applicationNum = browser.find_all(class_='winner-info__list-item-text')[3].text #applicationNum\n",
    "        cofunding = browser.find_all(class_='circle-bar__info-item-number')[1].text #cofunding\n",
    "        contest = browser.find_all(class_='winner-info__list-item-text')[0].text #contest\n",
    "        socialSignificance = browser.find_all(class_='winner__details-box js-ancor-box')[3].text # socialSignificance\n",
    "        focus = browser.find_all(class_='winner-info__list-item-text')[1].text # focus\n",
    "        grantAmount = browser.find_all(class_='circle-bar__info-item-number')[0].text # grantAmount\n",
    "        operatorINN = '7703424091' # operatorINN\n",
    "        operatorOGRN = '1177700003942' # operatorOGRN\n",
    "        operatorName = 'Фонд-оператор президентских грантов по развитию гражданского общества' # operatorName\n",
    "        time = browser.find_all(class_='winner-info__list-item-text')[5].text # projectBeginning #projectTermination\n",
    "        projectDescription = browser.find(id='winner-summary').text # projectDescription\n",
    "        projectGeography = browser.find(id='winner-geography').text # projectGeography\n",
    "        projectName = browser.find(class_='winner-info__title').text  # projectName\n",
    "        rating = browser.find_all(class_='winner-info__list-item-text')[2].text # rating\n",
    "        receiverINN = browser.find_all(class_='winner-info__list-item-text')[7].text # receiverINN\n",
    "        receiverName = browser.find_all(class_='winner-info__list-item-text')[6].text # receiverName\n",
    "        receiverOGRN = browser.find_all(class_='winner-info__list-item-text')[8].text # receiverOGRN\n",
    "        recordUrl = 'https://президентскиегранты.рф' + link['href'] # recordUrl\n",
    "        \n",
    "        \n",
    "        if browser.find(class_='winner__details-contacts-item winner__details-contacts-item--link') == None: # website\n",
    "            website = 'нет'\n",
    "        else:\n",
    "            website = browser.find(class_='winner__details-contacts-item winner__details-contacts-item--link').text\n",
    "\n",
    "        \n",
    "        year = '2019'\n",
    "        full_data = [address, applicationDate,applicationNum, cofunding, \n",
    "                         contest, socialSignificance, focus, grantAmount, \n",
    "                         operatorINN, operatorOGRN, operatorName, time, projectDescription,\n",
    "                         projectGeography, projectName, rating,\n",
    "                         receiverINN, receiverName, receiverOGRN, recordUrl,\n",
    "                         website, year]\n",
    "        dataset.append(full_data)\n",
    "    return dataset"
   ]
  },
  {
   "cell_type": "code",
   "execution_count": 7,
   "metadata": {},
   "outputs": [],
   "source": [
    "dataset = get_project_data(get_project_links(page_crawler(page_link)))"
   ]
  },
  {
   "cell_type": "code",
   "execution_count": 9,
   "metadata": {},
   "outputs": [],
   "source": [
    "df = pd.DataFrame(dataset, columns = ['address', 'applicationDate', 'applicationNum', 'cofunding', \n",
    "                         'contest', 'socialSignificance', 'focus', 'grantAmount', \n",
    "                         'operatorINN', 'operatorOGRN', 'operatorName', 'time', 'projectDescription',\n",
    "                        'projectGeography', 'projectName', 'rating', 'receiverINN', \n",
    "                         'receiverName', 'receiverOGRN', 'recordUrl',\n",
    "                        ' website', 'year'])"
   ]
  },
  {
   "cell_type": "code",
   "execution_count": 10,
   "metadata": {},
   "outputs": [],
   "source": [
    "df['region'] = get_region(page_crawler(page_link))"
   ]
  },
  {
   "cell_type": "code",
   "execution_count": 11,
   "metadata": {},
   "outputs": [],
   "source": [
    "# Чистим applicationDate\n",
    "applicationDate = []\n",
    "for every_str in df['applicationDate']:\n",
    "    every_str = every_str.strip('\\n').strip(' ')\n",
    "    applicationDate.append(every_str)\n",
    "df['applicationDate'] = applicationDate"
   ]
  },
  {
   "cell_type": "code",
   "execution_count": 12,
   "metadata": {},
   "outputs": [],
   "source": [
    "# applicationNum\n",
    "applicationNum = []\n",
    "for every_str in df['applicationNum']:\n",
    "    every_str = every_str.strip('\\n ').strip(' ')\n",
    "    applicationNum.append(every_str)\n",
    "df['applicationNum'] = applicationNum"
   ]
  },
  {
   "cell_type": "code",
   "execution_count": 13,
   "metadata": {},
   "outputs": [],
   "source": [
    "# cofunding\n",
    "cofunding = []\n",
    "for every_str in df['cofunding']:\n",
    "    every_str = float(every_str.strip(' ').strip(' ₽').replace(',', '.').replace(' ', ''))\n",
    "    cofunding.append(every_str)\n",
    "df['cofunding'] = cofunding"
   ]
  },
  {
   "cell_type": "code",
   "execution_count": 14,
   "metadata": {},
   "outputs": [],
   "source": [
    "# contest\n",
    "contest = []\n",
    "for every_str in df['contest']:\n",
    "    every_str = every_str.strip('\\n ')\n",
    "    contest.append(every_str)\n",
    "df['contest'] = contest"
   ]
  },
  {
   "cell_type": "code",
   "execution_count": 15,
   "metadata": {},
   "outputs": [],
   "source": [
    "# socialSignificance\n",
    "socialSignificance = []\n",
    "for every_str in df['socialSignificance']:\n",
    "    every_str = every_str.strip('\\nОбоснование социальной значимости\\n ').strip('\\n')\n",
    "    socialSignificance.append(every_str)\n",
    "df['socialSignificance'] = socialSignificance"
   ]
  },
  {
   "cell_type": "code",
   "execution_count": 16,
   "metadata": {},
   "outputs": [],
   "source": [
    "# focus\n",
    "focus = []\n",
    "for every_str in df['focus']:\n",
    "    every_str = every_str.strip('\\n ')\n",
    "    focus.append(every_str)\n",
    "df['focus'] = focus"
   ]
  },
  {
   "cell_type": "code",
   "execution_count": 17,
   "metadata": {},
   "outputs": [],
   "source": [
    "# grantAmount\n",
    "grantAmount = []\n",
    "for every_str in df['grantAmount']:\n",
    "    every_str = float(every_str.strip(' ').strip(' ₽').replace(',', '.').replace(' ',''))\n",
    "    grantAmount.append(every_str)\n",
    "df['grantAmount'] = grantAmount"
   ]
  },
  {
   "cell_type": "code",
   "execution_count": 18,
   "metadata": {},
   "outputs": [],
   "source": [
    "# time: projectBeginning and projectTermination\n",
    "projectBeginning = []\n",
    "projectTermination = []\n",
    "for every_str in df['time']:\n",
    "    prbeg = every_str.strip('\\n ').split(' - ')[0]\n",
    "    prterm = every_str.strip('\\n ').split(' - ')[1]\n",
    "    projectBeginning.append(prbeg)\n",
    "    projectTermination.append(prterm)\n",
    "df['projectBeginning'] = projectBeginning\n",
    "df['projectTermination'] = projectTermination\n",
    "del df['time']"
   ]
  },
  {
   "cell_type": "code",
   "execution_count": 19,
   "metadata": {},
   "outputs": [],
   "source": [
    "# projectDescription\n",
    "projectDescription = []\n",
    "for every_str in df['projectDescription']:\n",
    "    every_str = every_str.replace('\\nКраткое описание\\n', '').strip('\\n ')\n",
    "    projectDescription.append(every_str)\n",
    "df['projectDescription'] = projectDescription"
   ]
  },
  {
   "cell_type": "code",
   "execution_count": 20,
   "metadata": {},
   "outputs": [],
   "source": [
    "# projectGeography\n",
    "projectGeography = []\n",
    "for every_str in df['projectGeography']:\n",
    "    every_str = every_str.replace('\\nГеография проекта\\n                            ', '').rstrip('\\n ')\n",
    "    projectGeography.append(every_str)\n",
    "df['projectGeography'] = projectGeography"
   ]
  },
  {
   "cell_type": "code",
   "execution_count": 21,
   "metadata": {},
   "outputs": [],
   "source": [
    "# rating\n",
    "rating = []\n",
    "for every_str in df['rating']:\n",
    "    every_str = float(every_str.strip('\\n ').replace(',', '.'))\n",
    "    rating.append(every_str)\n",
    "df['rating'] = rating"
   ]
  },
  {
   "cell_type": "code",
   "execution_count": 22,
   "metadata": {},
   "outputs": [],
   "source": [
    "# receiverINN\n",
    "receiverINN = []\n",
    "for every_str in df['receiverINN']:\n",
    "    every_str = every_str.strip('\\n ')\n",
    "    receiverINN.append(every_str)\n",
    "df['receiverINN'] = receiverINN"
   ]
  },
  {
   "cell_type": "code",
   "execution_count": 23,
   "metadata": {},
   "outputs": [],
   "source": [
    "# receiverName\n",
    "receiverName = []\n",
    "for every_str in df['receiverName']:\n",
    "    every_str = every_str.strip('\\n ')\n",
    "    receiverName.append(every_str)\n",
    "df['receiverName'] = receiverName"
   ]
  },
  {
   "cell_type": "code",
   "execution_count": 24,
   "metadata": {},
   "outputs": [],
   "source": [
    "# receiverOGRN\n",
    "receiverOGRN = []\n",
    "for every_str in df['receiverOGRN']:\n",
    "    every_str = every_str.strip('\\n ')\n",
    "    receiverOGRN.append(every_str)\n",
    "df['receiverOGRN'] = receiverOGRN"
   ]
  },
  {
   "cell_type": "code",
   "execution_count": 25,
   "metadata": {},
   "outputs": [],
   "source": [
    "df.to_csv('1202_grants_1.csv', sep=',', encoding = 'utf-8-sig')\n",
    "#df.to_csv('1202_grants.csv', sep=',', encoding = 'utf-8-sig')"
   ]
  },
  {
   "cell_type": "code",
   "execution_count": null,
   "metadata": {},
   "outputs": [],
   "source": [
    "#соединяем собранные датасеты с разных конкурсов и датасет 2013-2018 гг.\n",
    "df1 = pd.read_csv('1202_grants_1.csv', sep=',', encoding = 'utf-8-sig')\n",
    "df2 = pd.read_csv('1202_grants.csv', sep=',', encoding = 'utf-8-sig')\n",
    "df3 = pd.read_csv('no_email_tel_issign.csv', sep = ',', encoding = 'utf-8-sig')"
   ]
  },
  {
   "cell_type": "code",
   "execution_count": null,
   "metadata": {},
   "outputs": [],
   "source": [
    "frames = [df1, df2,df3]\n",
    "result = pd.concat(frames)\n",
    "result = pd.concat(frames, sort=True)\n",
    "result.to_csv('GRANT_2013_2019.csv', sep = ',', encoding = 'utf-8-sig')"
   ]
  }
 ],
 "metadata": {
  "kernelspec": {
   "display_name": "Python 3",
   "language": "python",
   "name": "python3"
  },
  "language_info": {
   "codemirror_mode": {
    "name": "ipython",
    "version": 3
   },
   "file_extension": ".py",
   "mimetype": "text/x-python",
   "name": "python",
   "nbconvert_exporter": "python",
   "pygments_lexer": "ipython3",
   "version": "3.7.3"
  }
 },
 "nbformat": 4,
 "nbformat_minor": 2
}
